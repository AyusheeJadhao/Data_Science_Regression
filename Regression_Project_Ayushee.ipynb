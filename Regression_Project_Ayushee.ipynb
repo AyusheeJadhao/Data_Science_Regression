{
 "cells": [
  {
   "cell_type": "markdown",
   "metadata": {},
   "source": [
    "# Regression_Project_Ayushee"
   ]
  },
  {
   "cell_type": "markdown",
   "metadata": {},
   "source": [
    "#Project 1 Now we'll discuss a case study solution using multiple linear regression.\n",
    "\n",
    "A little background on the case study. This data belongs to a loan aggregator agency which connects loan applications to different financial institutions in attempt to get the best interest rate. They want to now utilise past data to predict interest rate given by any financial institute just by looking at loan application characteristics.\n",
    "\n",
    "To achieve that , they have decided to do a POC with a data from a particular financial institution. The data is given in the file \"loans data.csv\". Lets begin:"
   ]
  },
  {
   "cell_type": "code",
   "execution_count": 1,
   "metadata": {},
   "outputs": [],
   "source": [
    "# imporitng necessary libraries \n",
    "import pandas as pd\n",
    "import seaborn as sns\n",
    "import math\n",
    "from sklearn.model_selection import train_test_split\n",
    "from sklearn.linear_model import LinearRegression, Lasso, Ridge\n",
    "import numpy as np\n",
    "from sklearn.model_selection import KFold\n",
    "%matplotlib inline"
   ]
  },
  {
   "cell_type": "code",
   "execution_count": 2,
   "metadata": {},
   "outputs": [],
   "source": [
    "# Reading data file\n",
    "data_file=r'loans data.csv'\n",
    "ld=pd.read_csv(data_file)"
   ]
  },
  {
   "cell_type": "code",
   "execution_count": 3,
   "metadata": {
    "scrolled": true
   },
   "outputs": [
    {
     "data": {
      "text/html": [
       "<div>\n",
       "<style scoped>\n",
       "    .dataframe tbody tr th:only-of-type {\n",
       "        vertical-align: middle;\n",
       "    }\n",
       "\n",
       "    .dataframe tbody tr th {\n",
       "        vertical-align: top;\n",
       "    }\n",
       "\n",
       "    .dataframe thead th {\n",
       "        text-align: right;\n",
       "    }\n",
       "</style>\n",
       "<table border=\"1\" class=\"dataframe\">\n",
       "  <thead>\n",
       "    <tr style=\"text-align: right;\">\n",
       "      <th></th>\n",
       "      <th>ID</th>\n",
       "      <th>Amount.Requested</th>\n",
       "      <th>Amount.Funded.By.Investors</th>\n",
       "      <th>Interest.Rate</th>\n",
       "      <th>Loan.Length</th>\n",
       "      <th>Loan.Purpose</th>\n",
       "      <th>Debt.To.Income.Ratio</th>\n",
       "      <th>State</th>\n",
       "      <th>Home.Ownership</th>\n",
       "      <th>Monthly.Income</th>\n",
       "      <th>FICO.Range</th>\n",
       "      <th>Open.CREDIT.Lines</th>\n",
       "      <th>Revolving.CREDIT.Balance</th>\n",
       "      <th>Inquiries.in.the.Last.6.Months</th>\n",
       "      <th>Employment.Length</th>\n",
       "    </tr>\n",
       "  </thead>\n",
       "  <tbody>\n",
       "    <tr>\n",
       "      <td>0</td>\n",
       "      <td>81174.0</td>\n",
       "      <td>20000</td>\n",
       "      <td>20000</td>\n",
       "      <td>8.90%</td>\n",
       "      <td>36 months</td>\n",
       "      <td>debt_consolidation</td>\n",
       "      <td>14.90%</td>\n",
       "      <td>SC</td>\n",
       "      <td>MORTGAGE</td>\n",
       "      <td>6541.67</td>\n",
       "      <td>735-739</td>\n",
       "      <td>14</td>\n",
       "      <td>14272</td>\n",
       "      <td>2.0</td>\n",
       "      <td>&lt; 1 year</td>\n",
       "    </tr>\n",
       "    <tr>\n",
       "      <td>1</td>\n",
       "      <td>99592.0</td>\n",
       "      <td>19200</td>\n",
       "      <td>19200</td>\n",
       "      <td>12.12%</td>\n",
       "      <td>36 months</td>\n",
       "      <td>debt_consolidation</td>\n",
       "      <td>28.36%</td>\n",
       "      <td>TX</td>\n",
       "      <td>MORTGAGE</td>\n",
       "      <td>4583.33</td>\n",
       "      <td>715-719</td>\n",
       "      <td>12</td>\n",
       "      <td>11140</td>\n",
       "      <td>1.0</td>\n",
       "      <td>2 years</td>\n",
       "    </tr>\n",
       "    <tr>\n",
       "      <td>2</td>\n",
       "      <td>80059.0</td>\n",
       "      <td>35000</td>\n",
       "      <td>35000</td>\n",
       "      <td>21.98%</td>\n",
       "      <td>60 months</td>\n",
       "      <td>debt_consolidation</td>\n",
       "      <td>23.81%</td>\n",
       "      <td>CA</td>\n",
       "      <td>MORTGAGE</td>\n",
       "      <td>11500.00</td>\n",
       "      <td>690-694</td>\n",
       "      <td>14</td>\n",
       "      <td>21977</td>\n",
       "      <td>1.0</td>\n",
       "      <td>2 years</td>\n",
       "    </tr>\n",
       "    <tr>\n",
       "      <td>3</td>\n",
       "      <td>15825.0</td>\n",
       "      <td>10000</td>\n",
       "      <td>9975</td>\n",
       "      <td>9.99%</td>\n",
       "      <td>36 months</td>\n",
       "      <td>debt_consolidation</td>\n",
       "      <td>14.30%</td>\n",
       "      <td>KS</td>\n",
       "      <td>MORTGAGE</td>\n",
       "      <td>3833.33</td>\n",
       "      <td>695-699</td>\n",
       "      <td>10</td>\n",
       "      <td>9346</td>\n",
       "      <td>0.0</td>\n",
       "      <td>5 years</td>\n",
       "    </tr>\n",
       "    <tr>\n",
       "      <td>4</td>\n",
       "      <td>33182.0</td>\n",
       "      <td>12000</td>\n",
       "      <td>12000</td>\n",
       "      <td>11.71%</td>\n",
       "      <td>36 months</td>\n",
       "      <td>credit_card</td>\n",
       "      <td>18.78%</td>\n",
       "      <td>NJ</td>\n",
       "      <td>RENT</td>\n",
       "      <td>3195.00</td>\n",
       "      <td>695-699</td>\n",
       "      <td>11</td>\n",
       "      <td>14469</td>\n",
       "      <td>0.0</td>\n",
       "      <td>9 years</td>\n",
       "    </tr>\n",
       "  </tbody>\n",
       "</table>\n",
       "</div>"
      ],
      "text/plain": [
       "        ID Amount.Requested Amount.Funded.By.Investors Interest.Rate  \\\n",
       "0  81174.0            20000                      20000         8.90%   \n",
       "1  99592.0            19200                      19200        12.12%   \n",
       "2  80059.0            35000                      35000        21.98%   \n",
       "3  15825.0            10000                       9975         9.99%   \n",
       "4  33182.0            12000                      12000        11.71%   \n",
       "\n",
       "  Loan.Length        Loan.Purpose Debt.To.Income.Ratio State Home.Ownership  \\\n",
       "0   36 months  debt_consolidation               14.90%    SC       MORTGAGE   \n",
       "1   36 months  debt_consolidation               28.36%    TX       MORTGAGE   \n",
       "2   60 months  debt_consolidation               23.81%    CA       MORTGAGE   \n",
       "3   36 months  debt_consolidation               14.30%    KS       MORTGAGE   \n",
       "4   36 months         credit_card               18.78%    NJ           RENT   \n",
       "\n",
       "   Monthly.Income FICO.Range Open.CREDIT.Lines Revolving.CREDIT.Balance  \\\n",
       "0         6541.67    735-739                14                    14272   \n",
       "1         4583.33    715-719                12                    11140   \n",
       "2        11500.00    690-694                14                    21977   \n",
       "3         3833.33    695-699                10                     9346   \n",
       "4         3195.00    695-699                11                    14469   \n",
       "\n",
       "   Inquiries.in.the.Last.6.Months Employment.Length  \n",
       "0                             2.0          < 1 year  \n",
       "1                             1.0           2 years  \n",
       "2                             1.0           2 years  \n",
       "3                             0.0           5 years  \n",
       "4                             0.0           9 years  "
      ]
     },
     "execution_count": 3,
     "metadata": {},
     "output_type": "execute_result"
    }
   ],
   "source": [
    "ld.head()"
   ]
  },
  {
   "cell_type": "code",
   "execution_count": 4,
   "metadata": {},
   "outputs": [
    {
     "data": {
      "text/html": [
       "<div>\n",
       "<style scoped>\n",
       "    .dataframe tbody tr th:only-of-type {\n",
       "        vertical-align: middle;\n",
       "    }\n",
       "\n",
       "    .dataframe tbody tr th {\n",
       "        vertical-align: top;\n",
       "    }\n",
       "\n",
       "    .dataframe thead th {\n",
       "        text-align: right;\n",
       "    }\n",
       "</style>\n",
       "<table border=\"1\" class=\"dataframe\">\n",
       "  <thead>\n",
       "    <tr style=\"text-align: right;\">\n",
       "      <th></th>\n",
       "      <th>ID</th>\n",
       "      <th>Amount.Requested</th>\n",
       "      <th>Amount.Funded.By.Investors</th>\n",
       "      <th>Interest.Rate</th>\n",
       "      <th>Loan.Length</th>\n",
       "      <th>Loan.Purpose</th>\n",
       "      <th>Debt.To.Income.Ratio</th>\n",
       "      <th>State</th>\n",
       "      <th>Home.Ownership</th>\n",
       "      <th>Monthly.Income</th>\n",
       "      <th>FICO.Range</th>\n",
       "      <th>Open.CREDIT.Lines</th>\n",
       "      <th>Revolving.CREDIT.Balance</th>\n",
       "      <th>Inquiries.in.the.Last.6.Months</th>\n",
       "      <th>Employment.Length</th>\n",
       "    </tr>\n",
       "  </thead>\n",
       "  <tbody>\n",
       "    <tr>\n",
       "      <td>2495</td>\n",
       "      <td>23735.0</td>\n",
       "      <td>30000</td>\n",
       "      <td>29950</td>\n",
       "      <td>16.77%</td>\n",
       "      <td>60 months</td>\n",
       "      <td>debt_consolidation</td>\n",
       "      <td>19.23%</td>\n",
       "      <td>NY</td>\n",
       "      <td>MORTGAGE</td>\n",
       "      <td>9250.00</td>\n",
       "      <td>705-709</td>\n",
       "      <td>15</td>\n",
       "      <td>45880</td>\n",
       "      <td>1.0</td>\n",
       "      <td>8 years</td>\n",
       "    </tr>\n",
       "    <tr>\n",
       "      <td>2496</td>\n",
       "      <td>65882.0</td>\n",
       "      <td>16000</td>\n",
       "      <td>16000</td>\n",
       "      <td>14.09%</td>\n",
       "      <td>60 months</td>\n",
       "      <td>home_improvement</td>\n",
       "      <td>21.54%</td>\n",
       "      <td>MD</td>\n",
       "      <td>OWN</td>\n",
       "      <td>8903.25</td>\n",
       "      <td>740-744</td>\n",
       "      <td>18</td>\n",
       "      <td>18898</td>\n",
       "      <td>1.0</td>\n",
       "      <td>10+ years</td>\n",
       "    </tr>\n",
       "    <tr>\n",
       "      <td>2497</td>\n",
       "      <td>55610.0</td>\n",
       "      <td>10000</td>\n",
       "      <td>10000</td>\n",
       "      <td>13.99%</td>\n",
       "      <td>36 months</td>\n",
       "      <td>debt_consolidation</td>\n",
       "      <td>4.89%</td>\n",
       "      <td>PA</td>\n",
       "      <td>MORTGAGE</td>\n",
       "      <td>2166.67</td>\n",
       "      <td>680-684</td>\n",
       "      <td>4</td>\n",
       "      <td>4544</td>\n",
       "      <td>0.0</td>\n",
       "      <td>10+ years</td>\n",
       "    </tr>\n",
       "    <tr>\n",
       "      <td>2498</td>\n",
       "      <td>38576.0</td>\n",
       "      <td>6000</td>\n",
       "      <td>6000</td>\n",
       "      <td>12.42%</td>\n",
       "      <td>36 months</td>\n",
       "      <td>major_purchase</td>\n",
       "      <td>16.66%</td>\n",
       "      <td>NJ</td>\n",
       "      <td>RENT</td>\n",
       "      <td>3500.00</td>\n",
       "      <td>675-679</td>\n",
       "      <td>8</td>\n",
       "      <td>.</td>\n",
       "      <td>0.0</td>\n",
       "      <td>5 years</td>\n",
       "    </tr>\n",
       "    <tr>\n",
       "      <td>2499</td>\n",
       "      <td>3116.0</td>\n",
       "      <td>9000</td>\n",
       "      <td>5242.75</td>\n",
       "      <td>13.79%</td>\n",
       "      <td>36 months</td>\n",
       "      <td>debt_consolidation</td>\n",
       "      <td>6.76%</td>\n",
       "      <td>NY</td>\n",
       "      <td>RENT</td>\n",
       "      <td>3875.00</td>\n",
       "      <td>670-674</td>\n",
       "      <td>7</td>\n",
       "      <td>7589</td>\n",
       "      <td>0.0</td>\n",
       "      <td>10+ years</td>\n",
       "    </tr>\n",
       "  </tbody>\n",
       "</table>\n",
       "</div>"
      ],
      "text/plain": [
       "           ID Amount.Requested Amount.Funded.By.Investors Interest.Rate  \\\n",
       "2495  23735.0            30000                      29950        16.77%   \n",
       "2496  65882.0            16000                      16000        14.09%   \n",
       "2497  55610.0            10000                      10000        13.99%   \n",
       "2498  38576.0             6000                       6000        12.42%   \n",
       "2499   3116.0             9000                    5242.75        13.79%   \n",
       "\n",
       "     Loan.Length        Loan.Purpose Debt.To.Income.Ratio State  \\\n",
       "2495   60 months  debt_consolidation               19.23%    NY   \n",
       "2496   60 months    home_improvement               21.54%    MD   \n",
       "2497   36 months  debt_consolidation                4.89%    PA   \n",
       "2498   36 months      major_purchase               16.66%    NJ   \n",
       "2499   36 months  debt_consolidation                6.76%    NY   \n",
       "\n",
       "     Home.Ownership  Monthly.Income FICO.Range Open.CREDIT.Lines  \\\n",
       "2495       MORTGAGE         9250.00    705-709                15   \n",
       "2496            OWN         8903.25    740-744                18   \n",
       "2497       MORTGAGE         2166.67    680-684                 4   \n",
       "2498           RENT         3500.00    675-679                 8   \n",
       "2499           RENT         3875.00    670-674                 7   \n",
       "\n",
       "     Revolving.CREDIT.Balance  Inquiries.in.the.Last.6.Months  \\\n",
       "2495                    45880                             1.0   \n",
       "2496                    18898                             1.0   \n",
       "2497                     4544                             0.0   \n",
       "2498                        .                             0.0   \n",
       "2499                     7589                             0.0   \n",
       "\n",
       "     Employment.Length  \n",
       "2495           8 years  \n",
       "2496         10+ years  \n",
       "2497         10+ years  \n",
       "2498           5 years  \n",
       "2499         10+ years  "
      ]
     },
     "execution_count": 4,
     "metadata": {},
     "output_type": "execute_result"
    }
   ],
   "source": [
    "ld.tail()"
   ]
  },
  {
   "cell_type": "code",
   "execution_count": 5,
   "metadata": {},
   "outputs": [
    {
     "data": {
      "text/plain": [
       "(2500, 15)"
      ]
     },
     "execution_count": 5,
     "metadata": {},
     "output_type": "execute_result"
    }
   ],
   "source": [
    "ld.shape"
   ]
  },
  {
   "cell_type": "code",
   "execution_count": 6,
   "metadata": {},
   "outputs": [
    {
     "data": {
      "text/plain": [
       "<bound method DataFrame.info of            ID Amount.Requested Amount.Funded.By.Investors Interest.Rate  \\\n",
       "0     81174.0            20000                      20000         8.90%   \n",
       "1     99592.0            19200                      19200        12.12%   \n",
       "2     80059.0            35000                      35000        21.98%   \n",
       "3     15825.0            10000                       9975         9.99%   \n",
       "4     33182.0            12000                      12000        11.71%   \n",
       "...       ...              ...                        ...           ...   \n",
       "2495  23735.0            30000                      29950        16.77%   \n",
       "2496  65882.0            16000                      16000        14.09%   \n",
       "2497  55610.0            10000                      10000        13.99%   \n",
       "2498  38576.0             6000                       6000        12.42%   \n",
       "2499   3116.0             9000                    5242.75        13.79%   \n",
       "\n",
       "     Loan.Length        Loan.Purpose Debt.To.Income.Ratio State  \\\n",
       "0      36 months  debt_consolidation               14.90%    SC   \n",
       "1      36 months  debt_consolidation               28.36%    TX   \n",
       "2      60 months  debt_consolidation               23.81%    CA   \n",
       "3      36 months  debt_consolidation               14.30%    KS   \n",
       "4      36 months         credit_card               18.78%    NJ   \n",
       "...          ...                 ...                  ...   ...   \n",
       "2495   60 months  debt_consolidation               19.23%    NY   \n",
       "2496   60 months    home_improvement               21.54%    MD   \n",
       "2497   36 months  debt_consolidation                4.89%    PA   \n",
       "2498   36 months      major_purchase               16.66%    NJ   \n",
       "2499   36 months  debt_consolidation                6.76%    NY   \n",
       "\n",
       "     Home.Ownership  Monthly.Income FICO.Range Open.CREDIT.Lines  \\\n",
       "0          MORTGAGE         6541.67    735-739                14   \n",
       "1          MORTGAGE         4583.33    715-719                12   \n",
       "2          MORTGAGE        11500.00    690-694                14   \n",
       "3          MORTGAGE         3833.33    695-699                10   \n",
       "4              RENT         3195.00    695-699                11   \n",
       "...             ...             ...        ...               ...   \n",
       "2495       MORTGAGE         9250.00    705-709                15   \n",
       "2496            OWN         8903.25    740-744                18   \n",
       "2497       MORTGAGE         2166.67    680-684                 4   \n",
       "2498           RENT         3500.00    675-679                 8   \n",
       "2499           RENT         3875.00    670-674                 7   \n",
       "\n",
       "     Revolving.CREDIT.Balance  Inquiries.in.the.Last.6.Months  \\\n",
       "0                       14272                             2.0   \n",
       "1                       11140                             1.0   \n",
       "2                       21977                             1.0   \n",
       "3                        9346                             0.0   \n",
       "4                       14469                             0.0   \n",
       "...                       ...                             ...   \n",
       "2495                    45880                             1.0   \n",
       "2496                    18898                             1.0   \n",
       "2497                     4544                             0.0   \n",
       "2498                        .                             0.0   \n",
       "2499                     7589                             0.0   \n",
       "\n",
       "     Employment.Length  \n",
       "0             < 1 year  \n",
       "1              2 years  \n",
       "2              2 years  \n",
       "3              5 years  \n",
       "4              9 years  \n",
       "...                ...  \n",
       "2495           8 years  \n",
       "2496         10+ years  \n",
       "2497         10+ years  \n",
       "2498           5 years  \n",
       "2499         10+ years  \n",
       "\n",
       "[2500 rows x 15 columns]>"
      ]
     },
     "execution_count": 6,
     "metadata": {},
     "output_type": "execute_result"
    }
   ],
   "source": [
    "ld.info"
   ]
  },
  {
   "cell_type": "markdown",
   "metadata": {},
   "source": [
    "##### As Interest Rate and debit to income ratio columns contains % symbol in there values hence, need to process (remove) those % symbols so as to count it as numeric not character, same as for Employment.Length  column (removing +, <, etc)"
   ]
  },
  {
   "cell_type": "code",
   "execution_count": 7,
   "metadata": {},
   "outputs": [],
   "source": [
    "columns_pro=[\"Interest.Rate\", \"Debt.To.Income.Ratio\", \"Employment.Length\"]\n",
    "\n",
    "for col in columns_pro:\n",
    "    ld[col]= ld[col].astype(\"str\")\n",
    "    ld[col]= ld[col].str.replace(\"%\", \"\").str.replace(\"year\", \"\").str.replace(\"s\", \"\").str.replace(\"n/a\", \"< 1\").str.replace(\"< 1\", \"0\").str.replace(\"10+\", \"11\")"
   ]
  },
  {
   "cell_type": "code",
   "execution_count": 8,
   "metadata": {},
   "outputs": [
    {
     "data": {
      "text/plain": [
       "ID                                2\n",
       "Amount.Requested                  2\n",
       "Amount.Funded.By.Investors        2\n",
       "Interest.Rate                     0\n",
       "Loan.Length                       2\n",
       "Loan.Purpose                      2\n",
       "Debt.To.Income.Ratio              0\n",
       "State                             2\n",
       "Home.Ownership                    2\n",
       "Monthly.Income                    4\n",
       "FICO.Range                        1\n",
       "Open.CREDIT.Lines                 5\n",
       "Revolving.CREDIT.Balance          4\n",
       "Inquiries.in.the.Last.6.Months    4\n",
       "Employment.Length                 0\n",
       "dtype: int64"
      ]
     },
     "execution_count": 8,
     "metadata": {},
     "output_type": "execute_result"
    }
   ],
   "source": [
    "ld.isnull().sum()"
   ]
  },
  {
   "cell_type": "code",
   "execution_count": 9,
   "metadata": {},
   "outputs": [
    {
     "data": {
      "text/plain": [
       "ID                                float64\n",
       "Amount.Requested                   object\n",
       "Amount.Funded.By.Investors         object\n",
       "Interest.Rate                      object\n",
       "Loan.Length                        object\n",
       "Loan.Purpose                       object\n",
       "Debt.To.Income.Ratio               object\n",
       "State                              object\n",
       "Home.Ownership                     object\n",
       "Monthly.Income                    float64\n",
       "FICO.Range                         object\n",
       "Open.CREDIT.Lines                  object\n",
       "Revolving.CREDIT.Balance           object\n",
       "Inquiries.in.the.Last.6.Months    float64\n",
       "Employment.Length                  object\n",
       "dtype: object"
      ]
     },
     "execution_count": 9,
     "metadata": {},
     "output_type": "execute_result"
    }
   ],
   "source": [
    "ld.dtypes"
   ]
  },
  {
   "cell_type": "markdown",
   "metadata": {},
   "source": [
    "##### As there are many rows which are in object datatype, need to convert those columns from object to numbers"
   ]
  },
  {
   "cell_type": "code",
   "execution_count": 10,
   "metadata": {},
   "outputs": [],
   "source": [
    "columns_con= [\"Amount.Requested\",\"Amount.Funded.By.Investors\",\"Open.CREDIT.Lines\",\"Revolving.CREDIT.Balance\",\n",
    "    \"Inquiries.in.the.Last.6.Months\",\"Interest.Rate\",\"Debt.To.Income.Ratio\",\"Employment.Length\"]\n",
    "\n",
    "ld[columns_con]= ld[columns_con].apply(pd.to_numeric, errors=\"coerce\")"
   ]
  },
  {
   "cell_type": "code",
   "execution_count": 11,
   "metadata": {},
   "outputs": [
    {
     "data": {
      "text/plain": [
       "ID                                float64\n",
       "Amount.Requested                  float64\n",
       "Amount.Funded.By.Investors        float64\n",
       "Interest.Rate                     float64\n",
       "Loan.Length                        object\n",
       "Loan.Purpose                       object\n",
       "Debt.To.Income.Ratio              float64\n",
       "State                              object\n",
       "Home.Ownership                     object\n",
       "Monthly.Income                    float64\n",
       "FICO.Range                         object\n",
       "Open.CREDIT.Lines                 float64\n",
       "Revolving.CREDIT.Balance          float64\n",
       "Inquiries.in.the.Last.6.Months    float64\n",
       "Employment.Length                 float64\n",
       "dtype: object"
      ]
     },
     "execution_count": 11,
     "metadata": {},
     "output_type": "execute_result"
    }
   ],
   "source": [
    "ld.dtypes"
   ]
  },
  {
   "cell_type": "markdown",
   "metadata": {},
   "source": [
    "##### Now targeting remaining categorical columns by making dummy variable"
   ]
  },
  {
   "cell_type": "code",
   "execution_count": 12,
   "metadata": {},
   "outputs": [
    {
     "data": {
      "text/plain": [
       "36 months    1949\n",
       "60 months     548\n",
       ".               1\n",
       "Name: Loan.Length, dtype: int64"
      ]
     },
     "execution_count": 12,
     "metadata": {},
     "output_type": "execute_result"
    }
   ],
   "source": [
    "ld['Loan.Length'].value_counts()"
   ]
  },
  {
   "cell_type": "markdown",
   "metadata": {},
   "source": [
    "##### To encode categorical variables in a format that machine learning algorithms can interpret, pd.get_dummies() creates a new DataFrame, so the original \"Loan.Length\" column is not modified in place."
   ]
  },
  {
   "cell_type": "code",
   "execution_count": 13,
   "metadata": {},
   "outputs": [],
   "source": [
    "ll_dummies=pd.get_dummies(ld[\"Loan.Length\"])"
   ]
  },
  {
   "cell_type": "code",
   "execution_count": 14,
   "metadata": {},
   "outputs": [
    {
     "data": {
      "text/html": [
       "<div>\n",
       "<style scoped>\n",
       "    .dataframe tbody tr th:only-of-type {\n",
       "        vertical-align: middle;\n",
       "    }\n",
       "\n",
       "    .dataframe tbody tr th {\n",
       "        vertical-align: top;\n",
       "    }\n",
       "\n",
       "    .dataframe thead th {\n",
       "        text-align: right;\n",
       "    }\n",
       "</style>\n",
       "<table border=\"1\" class=\"dataframe\">\n",
       "  <thead>\n",
       "    <tr style=\"text-align: right;\">\n",
       "      <th></th>\n",
       "      <th>.</th>\n",
       "      <th>36 months</th>\n",
       "      <th>60 months</th>\n",
       "    </tr>\n",
       "  </thead>\n",
       "  <tbody>\n",
       "    <tr>\n",
       "      <td>0</td>\n",
       "      <td>0</td>\n",
       "      <td>1</td>\n",
       "      <td>0</td>\n",
       "    </tr>\n",
       "    <tr>\n",
       "      <td>1</td>\n",
       "      <td>0</td>\n",
       "      <td>1</td>\n",
       "      <td>0</td>\n",
       "    </tr>\n",
       "    <tr>\n",
       "      <td>2</td>\n",
       "      <td>0</td>\n",
       "      <td>0</td>\n",
       "      <td>1</td>\n",
       "    </tr>\n",
       "    <tr>\n",
       "      <td>3</td>\n",
       "      <td>0</td>\n",
       "      <td>1</td>\n",
       "      <td>0</td>\n",
       "    </tr>\n",
       "    <tr>\n",
       "      <td>4</td>\n",
       "      <td>0</td>\n",
       "      <td>1</td>\n",
       "      <td>0</td>\n",
       "    </tr>\n",
       "  </tbody>\n",
       "</table>\n",
       "</div>"
      ],
      "text/plain": [
       "   .  36 months  60 months\n",
       "0  0          1          0\n",
       "1  0          1          0\n",
       "2  0          0          1\n",
       "3  0          1          0\n",
       "4  0          1          0"
      ]
     },
     "execution_count": 14,
     "metadata": {},
     "output_type": "execute_result"
    }
   ],
   "source": [
    "ll_dummies.head()"
   ]
  },
  {
   "cell_type": "markdown",
   "metadata": {},
   "source": [
    "##### Adding dummy variable for \"36 months\" to our data and ignore the rest two."
   ]
  },
  {
   "cell_type": "code",
   "execution_count": 15,
   "metadata": {},
   "outputs": [],
   "source": [
    "ld[\"LL_36\"]=ll_dummies[\"36 months\"]"
   ]
  },
  {
   "cell_type": "markdown",
   "metadata": {},
   "source": [
    "##### Now dataframe is done ll_dummies , Loan. length can be dropped."
   ]
  },
  {
   "cell_type": "code",
   "execution_count": 16,
   "metadata": {},
   "outputs": [
    {
     "data": {
      "text/plain": [
       "Index(['ID', 'Amount.Requested', 'Amount.Funded.By.Investors', 'Interest.Rate',\n",
       "       'Loan.Length', 'Loan.Purpose', 'Debt.To.Income.Ratio', 'State',\n",
       "       'Home.Ownership', 'Monthly.Income', 'FICO.Range', 'Open.CREDIT.Lines',\n",
       "       'Revolving.CREDIT.Balance', 'Inquiries.in.the.Last.6.Months',\n",
       "       'Employment.Length', 'LL_36'],\n",
       "      dtype='object')"
      ]
     },
     "execution_count": 16,
     "metadata": {},
     "output_type": "execute_result"
    }
   ],
   "source": [
    "ld.columns"
   ]
  },
  {
   "cell_type": "code",
   "execution_count": 17,
   "metadata": {},
   "outputs": [],
   "source": [
    "ld= ld.drop('Loan.Length',axis=1)"
   ]
  },
  {
   "cell_type": "code",
   "execution_count": 18,
   "metadata": {},
   "outputs": [
    {
     "data": {
      "text/plain": [
       "ID                                float64\n",
       "Amount.Requested                  float64\n",
       "Amount.Funded.By.Investors        float64\n",
       "Interest.Rate                     float64\n",
       "Loan.Purpose                       object\n",
       "Debt.To.Income.Ratio              float64\n",
       "State                              object\n",
       "Home.Ownership                     object\n",
       "Monthly.Income                    float64\n",
       "FICO.Range                         object\n",
       "Open.CREDIT.Lines                 float64\n",
       "Revolving.CREDIT.Balance          float64\n",
       "Inquiries.in.the.Last.6.Months    float64\n",
       "Employment.Length                 float64\n",
       "LL_36                               uint8\n",
       "dtype: object"
      ]
     },
     "execution_count": 18,
     "metadata": {},
     "output_type": "execute_result"
    }
   ],
   "source": [
    "ld.dtypes"
   ]
  },
  {
   "cell_type": "markdown",
   "metadata": {},
   "source": [
    "##### Next for Loan.Purpose column"
   ]
  },
  {
   "cell_type": "code",
   "execution_count": 19,
   "metadata": {},
   "outputs": [
    {
     "data": {
      "text/plain": [
       "debt_consolidation    1307\n",
       "credit_card            443\n",
       "other                  200\n",
       "home_improvement       152\n",
       "major_purchase         101\n",
       "small_business          87\n",
       "car                     50\n",
       "wedding                 39\n",
       "medical                 30\n",
       "moving                  29\n",
       "vacation                21\n",
       "house                   20\n",
       "educational             15\n",
       "renewable_energy         4\n",
       "Name: Loan.Purpose, dtype: int64"
      ]
     },
     "execution_count": 19,
     "metadata": {},
     "output_type": "execute_result"
    }
   ],
   "source": [
    "ld[\"Loan.Purpose\"].value_counts()"
   ]
  },
  {
   "cell_type": "markdown",
   "metadata": {},
   "source": [
    "##### Now clubbing those categories which behave similar in terms of their effect on response.In other words , we can club those categories for which average interest rates are similar in the data."
   ]
  },
  {
   "cell_type": "code",
   "execution_count": 20,
   "metadata": {},
   "outputs": [
    {
     "data": {
      "text/plain": [
       "Loan.Purpose\n",
       "car                   11.0\n",
       "credit_card           13.0\n",
       "debt_consolidation    14.0\n",
       "educational           11.0\n",
       "home_improvement      12.0\n",
       "house                 13.0\n",
       "major_purchase        11.0\n",
       "medical               12.0\n",
       "moving                14.0\n",
       "other                 13.0\n",
       "renewable_energy      10.0\n",
       "small_business        13.0\n",
       "vacation              12.0\n",
       "wedding               12.0\n",
       "Name: Interest.Rate, dtype: float64"
      ]
     },
     "execution_count": 20,
     "metadata": {},
     "output_type": "execute_result"
    }
   ],
   "source": [
    "round(ld.groupby(\"Loan.Purpose\")[\"Interest.Rate\"].mean())"
   ]
  },
  {
   "cell_type": "markdown",
   "metadata": {},
   "source": [
    "##### From the table above that there are 4 effective categoris in the data for clubbing."
   ]
  },
  {
   "cell_type": "code",
   "execution_count": 21,
   "metadata": {},
   "outputs": [],
   "source": [
    "ld.loc[ld[\"Loan.Purpose\"].isin([\"car\", \"educational\", \"major_purchase\"]), \"Loan.Purpose\"] = \"cem\"\n",
    "ld.loc[ld[\"Loan.Purpose\"].isin([\"home_improvement\", \"medical\", \"vacation\", \"wedding\"]), \"Loan.Purpose\"] = \"hmvw\"\n",
    "ld.loc[ld[\"Loan.Purpose\"].isin([\"credit_card\", \"house\", \"other\", \"small_business\"]), \"Loan.Purpose\"] = \"chos\"\n",
    "ld.loc[ld[\"Loan.Purpose\"].isin([\"debt_consolidation\", \"moving\"]), \"Loan.Purpose\"] = \"dm\""
   ]
  },
  {
   "cell_type": "code",
   "execution_count": 22,
   "metadata": {},
   "outputs": [],
   "source": [
    "# making dummies\n",
    "lp_dummies=pd.get_dummies(ld[\"Loan.Purpose\"],prefix=\"LP\")"
   ]
  },
  {
   "cell_type": "code",
   "execution_count": 23,
   "metadata": {},
   "outputs": [
    {
     "data": {
      "text/html": [
       "<div>\n",
       "<style scoped>\n",
       "    .dataframe tbody tr th:only-of-type {\n",
       "        vertical-align: middle;\n",
       "    }\n",
       "\n",
       "    .dataframe tbody tr th {\n",
       "        vertical-align: top;\n",
       "    }\n",
       "\n",
       "    .dataframe thead th {\n",
       "        text-align: right;\n",
       "    }\n",
       "</style>\n",
       "<table border=\"1\" class=\"dataframe\">\n",
       "  <thead>\n",
       "    <tr style=\"text-align: right;\">\n",
       "      <th></th>\n",
       "      <th>LP_cem</th>\n",
       "      <th>LP_chos</th>\n",
       "      <th>LP_dm</th>\n",
       "      <th>LP_hmvw</th>\n",
       "      <th>LP_renewable_energy</th>\n",
       "    </tr>\n",
       "  </thead>\n",
       "  <tbody>\n",
       "    <tr>\n",
       "      <td>0</td>\n",
       "      <td>0</td>\n",
       "      <td>0</td>\n",
       "      <td>1</td>\n",
       "      <td>0</td>\n",
       "      <td>0</td>\n",
       "    </tr>\n",
       "    <tr>\n",
       "      <td>1</td>\n",
       "      <td>0</td>\n",
       "      <td>0</td>\n",
       "      <td>1</td>\n",
       "      <td>0</td>\n",
       "      <td>0</td>\n",
       "    </tr>\n",
       "    <tr>\n",
       "      <td>2</td>\n",
       "      <td>0</td>\n",
       "      <td>0</td>\n",
       "      <td>1</td>\n",
       "      <td>0</td>\n",
       "      <td>0</td>\n",
       "    </tr>\n",
       "    <tr>\n",
       "      <td>3</td>\n",
       "      <td>0</td>\n",
       "      <td>0</td>\n",
       "      <td>1</td>\n",
       "      <td>0</td>\n",
       "      <td>0</td>\n",
       "    </tr>\n",
       "    <tr>\n",
       "      <td>4</td>\n",
       "      <td>0</td>\n",
       "      <td>1</td>\n",
       "      <td>0</td>\n",
       "      <td>0</td>\n",
       "      <td>0</td>\n",
       "    </tr>\n",
       "  </tbody>\n",
       "</table>\n",
       "</div>"
      ],
      "text/plain": [
       "   LP_cem  LP_chos  LP_dm  LP_hmvw  LP_renewable_energy\n",
       "0       0        0      1        0                    0\n",
       "1       0        0      1        0                    0\n",
       "2       0        0      1        0                    0\n",
       "3       0        0      1        0                    0\n",
       "4       0        1      0        0                    0"
      ]
     },
     "execution_count": 23,
     "metadata": {},
     "output_type": "execute_result"
    }
   ],
   "source": [
    "lp_dummies.head()"
   ]
  },
  {
   "cell_type": "markdown",
   "metadata": {},
   "source": [
    "##### Adding this data to original data. And then dropping original variable \"Loan.Purpose\" and one of the dummies \"LP_renewable_energy\""
   ]
  },
  {
   "cell_type": "code",
   "execution_count": 24,
   "metadata": {},
   "outputs": [],
   "source": [
    "ld=pd.concat([ld,lp_dummies],1)\n",
    "ld=ld.drop([\"Loan.Purpose\",\"LP_renewable_energy\"],1)"
   ]
  },
  {
   "cell_type": "code",
   "execution_count": 25,
   "metadata": {},
   "outputs": [
    {
     "data": {
      "text/plain": [
       "ID                                float64\n",
       "Amount.Requested                  float64\n",
       "Amount.Funded.By.Investors        float64\n",
       "Interest.Rate                     float64\n",
       "Debt.To.Income.Ratio              float64\n",
       "State                              object\n",
       "Home.Ownership                     object\n",
       "Monthly.Income                    float64\n",
       "FICO.Range                         object\n",
       "Open.CREDIT.Lines                 float64\n",
       "Revolving.CREDIT.Balance          float64\n",
       "Inquiries.in.the.Last.6.Months    float64\n",
       "Employment.Length                 float64\n",
       "LL_36                               uint8\n",
       "LP_cem                              uint8\n",
       "LP_chos                             uint8\n",
       "LP_dm                               uint8\n",
       "LP_hmvw                             uint8\n",
       "dtype: object"
      ]
     },
     "execution_count": 25,
     "metadata": {},
     "output_type": "execute_result"
    }
   ],
   "source": [
    "ld.dtypes"
   ]
  },
  {
   "cell_type": "markdown",
   "metadata": {},
   "source": [
    "##### Next for state column"
   ]
  },
  {
   "cell_type": "code",
   "execution_count": 26,
   "metadata": {},
   "outputs": [
    {
     "data": {
      "text/plain": [
       "46"
      ]
     },
     "execution_count": 26,
     "metadata": {},
     "output_type": "execute_result"
    }
   ],
   "source": [
    "ld[\"State\"].nunique()"
   ]
  },
  {
   "cell_type": "code",
   "execution_count": 27,
   "metadata": {},
   "outputs": [
    {
     "data": {
      "text/plain": [
       "CA    433\n",
       "NY    255\n",
       "TX    174\n",
       "FL    169\n",
       "IL    101\n",
       "GA     97\n",
       "PA     96\n",
       "NJ     94\n",
       "VA     78\n",
       "MA     73\n",
       "OH     71\n",
       "MD     68\n",
       "NC     64\n",
       "CO     61\n",
       "WA     58\n",
       "CT     50\n",
       "AZ     46\n",
       "MI     45\n",
       "AL     38\n",
       "MN     38\n",
       "MO     33\n",
       "NV     32\n",
       "OR     30\n",
       "SC     28\n",
       "WI     26\n",
       "KY     23\n",
       "LA     22\n",
       "KS     21\n",
       "OK     21\n",
       "UT     16\n",
       "NH     15\n",
       "RI     15\n",
       "WV     14\n",
       "AR     13\n",
       "NM     13\n",
       "HI     12\n",
       "AK     11\n",
       "DC     11\n",
       "DE      8\n",
       "MT      7\n",
       "VT      5\n",
       "SD      4\n",
       "WY      4\n",
       "IN      3\n",
       "MS      1\n",
       "IA      1\n",
       "Name: State, dtype: int64"
      ]
     },
     "execution_count": 27,
     "metadata": {},
     "output_type": "execute_result"
    }
   ],
   "source": [
    "ld[\"State\"].value_counts()"
   ]
  },
  {
   "cell_type": "markdown",
   "metadata": {},
   "source": [
    "##### From the table above that there are 5 effective categoris in the data for clubbing i.e west coast, east coast, southern states, midwest, mountain states"
   ]
  },
  {
   "cell_type": "code",
   "execution_count": 28,
   "metadata": {},
   "outputs": [],
   "source": [
    "ld.loc[ld[\"State\"].isin([\"CA\", \"WA\", \"OR\",\"AK\"]), \"State\"] = \"west_coast\"\n",
    "ld.loc[ld[\"State\"].isin([\"NY\", \"FL\", \"NJ\", \"VA\",\"MA\",\"MD\",\"NC\",\"WI\",\"RI\",\"DE\",\"CT\",\"MI\",\n",
    "                         \"SC\",\"PA\",\"NH\",\"WV\",\"DC\",\"VT\"]), \"State\"] = \"east_coast\"\n",
    "ld.loc[ld[\"State\"].isin([\"TX\", \"GA\", \"AL\", \"LA\",\"KY\",\"KS\",\"OK\",\"UT\",\"AR\",\"NM\",\"HI\",\"MS\"]), \"State\"] = \"southern_states\"\n",
    "ld.loc[ld[\"State\"].isin([\"IL\",\"OH\",\"CO\",\"MN\",\"MO\",\"NV\",\"IA\",\"IN\"]), \"State\"] = \"midwest\"\n",
    "ld.loc[ld[\"State\"].isin([\"AZ\",\"MT\",\"WY\",\"SD\"]), \"State\"] = \"mountain_states\""
   ]
  },
  {
   "cell_type": "code",
   "execution_count": 29,
   "metadata": {},
   "outputs": [
    {
     "data": {
      "text/plain": [
       "east_coast         1114\n",
       "west_coast          532\n",
       "southern_states     451\n",
       "midwest             340\n",
       "mountain_states      61\n",
       "Name: State, dtype: int64"
      ]
     },
     "execution_count": 29,
     "metadata": {},
     "output_type": "execute_result"
    }
   ],
   "source": [
    "ld[\"State\"].value_counts()"
   ]
  },
  {
   "cell_type": "code",
   "execution_count": 30,
   "metadata": {},
   "outputs": [],
   "source": [
    "# making dummies\n",
    "states_dummies=pd.get_dummies(ld[\"State\"],prefix=\"State\")"
   ]
  },
  {
   "cell_type": "code",
   "execution_count": 31,
   "metadata": {},
   "outputs": [
    {
     "data": {
      "text/html": [
       "<div>\n",
       "<style scoped>\n",
       "    .dataframe tbody tr th:only-of-type {\n",
       "        vertical-align: middle;\n",
       "    }\n",
       "\n",
       "    .dataframe tbody tr th {\n",
       "        vertical-align: top;\n",
       "    }\n",
       "\n",
       "    .dataframe thead th {\n",
       "        text-align: right;\n",
       "    }\n",
       "</style>\n",
       "<table border=\"1\" class=\"dataframe\">\n",
       "  <thead>\n",
       "    <tr style=\"text-align: right;\">\n",
       "      <th></th>\n",
       "      <th>State_east_coast</th>\n",
       "      <th>State_midwest</th>\n",
       "      <th>State_mountain_states</th>\n",
       "      <th>State_southern_states</th>\n",
       "      <th>State_west_coast</th>\n",
       "    </tr>\n",
       "  </thead>\n",
       "  <tbody>\n",
       "    <tr>\n",
       "      <td>0</td>\n",
       "      <td>1</td>\n",
       "      <td>0</td>\n",
       "      <td>0</td>\n",
       "      <td>0</td>\n",
       "      <td>0</td>\n",
       "    </tr>\n",
       "    <tr>\n",
       "      <td>1</td>\n",
       "      <td>0</td>\n",
       "      <td>0</td>\n",
       "      <td>0</td>\n",
       "      <td>1</td>\n",
       "      <td>0</td>\n",
       "    </tr>\n",
       "    <tr>\n",
       "      <td>2</td>\n",
       "      <td>0</td>\n",
       "      <td>0</td>\n",
       "      <td>0</td>\n",
       "      <td>0</td>\n",
       "      <td>1</td>\n",
       "    </tr>\n",
       "    <tr>\n",
       "      <td>3</td>\n",
       "      <td>0</td>\n",
       "      <td>0</td>\n",
       "      <td>0</td>\n",
       "      <td>1</td>\n",
       "      <td>0</td>\n",
       "    </tr>\n",
       "    <tr>\n",
       "      <td>4</td>\n",
       "      <td>1</td>\n",
       "      <td>0</td>\n",
       "      <td>0</td>\n",
       "      <td>0</td>\n",
       "      <td>0</td>\n",
       "    </tr>\n",
       "  </tbody>\n",
       "</table>\n",
       "</div>"
      ],
      "text/plain": [
       "   State_east_coast  State_midwest  State_mountain_states  \\\n",
       "0                 1              0                      0   \n",
       "1                 0              0                      0   \n",
       "2                 0              0                      0   \n",
       "3                 0              0                      0   \n",
       "4                 1              0                      0   \n",
       "\n",
       "   State_southern_states  State_west_coast  \n",
       "0                      0                 0  \n",
       "1                      1                 0  \n",
       "2                      0                 1  \n",
       "3                      1                 0  \n",
       "4                      0                 0  "
      ]
     },
     "execution_count": 31,
     "metadata": {},
     "output_type": "execute_result"
    }
   ],
   "source": [
    "states_dummies.head()"
   ]
  },
  {
   "cell_type": "markdown",
   "metadata": {},
   "source": [
    "##### Adding this data to original data. And then dropping original variable \"State\" "
   ]
  },
  {
   "cell_type": "code",
   "execution_count": 32,
   "metadata": {},
   "outputs": [],
   "source": [
    "ld=pd.concat([ld,states_dummies],1)\n",
    "ld=ld.drop([\"State\"],1)"
   ]
  },
  {
   "cell_type": "code",
   "execution_count": 33,
   "metadata": {},
   "outputs": [
    {
     "data": {
      "text/plain": [
       "ID                                float64\n",
       "Amount.Requested                  float64\n",
       "Amount.Funded.By.Investors        float64\n",
       "Interest.Rate                     float64\n",
       "Debt.To.Income.Ratio              float64\n",
       "Home.Ownership                     object\n",
       "Monthly.Income                    float64\n",
       "FICO.Range                         object\n",
       "Open.CREDIT.Lines                 float64\n",
       "Revolving.CREDIT.Balance          float64\n",
       "Inquiries.in.the.Last.6.Months    float64\n",
       "Employment.Length                 float64\n",
       "LL_36                               uint8\n",
       "LP_cem                              uint8\n",
       "LP_chos                             uint8\n",
       "LP_dm                               uint8\n",
       "LP_hmvw                             uint8\n",
       "State_east_coast                    uint8\n",
       "State_midwest                       uint8\n",
       "State_mountain_states               uint8\n",
       "State_southern_states               uint8\n",
       "State_west_coast                    uint8\n",
       "dtype: object"
      ]
     },
     "execution_count": 33,
     "metadata": {},
     "output_type": "execute_result"
    }
   ],
   "source": [
    "ld.dtypes"
   ]
  },
  {
   "cell_type": "markdown",
   "metadata": {},
   "source": [
    "##### Next for home ownership"
   ]
  },
  {
   "cell_type": "code",
   "execution_count": 34,
   "metadata": {},
   "outputs": [
    {
     "data": {
      "text/plain": [
       "RENT        1146\n",
       "MORTGAGE    1146\n",
       "OWN          200\n",
       "OTHER          5\n",
       "NONE           1\n",
       "Name: Home.Ownership, dtype: int64"
      ]
     },
     "execution_count": 34,
     "metadata": {},
     "output_type": "execute_result"
    }
   ],
   "source": [
    "ld[\"Home.Ownership\"].value_counts()"
   ]
  },
  {
   "cell_type": "markdown",
   "metadata": {},
   "source": [
    "##### Simply ignored values OTHER and NONE , and considered that there are only 3 categories and created only two dummies . Because of very low frequencies of OTHER and NONE"
   ]
  },
  {
   "cell_type": "code",
   "execution_count": 35,
   "metadata": {},
   "outputs": [],
   "source": [
    "ld[\"ho_mort\"]=np.where(ld[\"Home.Ownership\"]==\"MORTGAGE\",1,0)\n",
    "ld[\"ho_rent\"]=np.where(ld[\"Home.Ownership\"]==\"RENT\",1,0)\n",
    "ld=ld.drop([\"Home.Ownership\"],1)"
   ]
  },
  {
   "cell_type": "markdown",
   "metadata": {},
   "source": [
    "##### Next for FICO.Range "
   ]
  },
  {
   "cell_type": "code",
   "execution_count": 36,
   "metadata": {},
   "outputs": [
    {
     "data": {
      "text/plain": [
       "0    735-739\n",
       "1    715-719\n",
       "2    690-694\n",
       "3    695-699\n",
       "4    695-699\n",
       "Name: FICO.Range, dtype: object"
      ]
     },
     "execution_count": 36,
     "metadata": {},
     "output_type": "execute_result"
    }
   ],
   "source": [
    "ld[\"FICO.Range\"].head()"
   ]
  },
  {
   "cell_type": "markdown",
   "metadata": {},
   "source": [
    "##### Converting it to numeric by taking average of the given range. To do that firstly split the column with \"-\", so that both end of ranges are separated columns and then average them. "
   ]
  },
  {
   "cell_type": "code",
   "execution_count": 37,
   "metadata": {},
   "outputs": [],
   "source": [
    "ld['f1'], ld['f2'] = zip(*ld['FICO.Range'].apply(lambda x: x.split('-', 1) if isinstance(x, str) else ('', '')))"
   ]
  },
  {
   "cell_type": "markdown",
   "metadata": {},
   "source": [
    "##### Now created new variable \"fico\" by averaging f1 and f2. And then we'll drop the original variable FICO.Range and f1,f2."
   ]
  },
  {
   "cell_type": "code",
   "execution_count": 38,
   "metadata": {},
   "outputs": [],
   "source": [
    "ld[\"fico\"]=0.5*(pd.to_numeric(ld[\"f1\"])+pd.to_numeric(ld[\"f2\"]))\n",
    "\n",
    "ld=ld.drop([\"FICO.Range\",\"f1\",\"f2\"],1)"
   ]
  },
  {
   "cell_type": "code",
   "execution_count": 39,
   "metadata": {},
   "outputs": [
    {
     "data": {
      "text/plain": [
       "ID                                float64\n",
       "Amount.Requested                  float64\n",
       "Amount.Funded.By.Investors        float64\n",
       "Interest.Rate                     float64\n",
       "Debt.To.Income.Ratio              float64\n",
       "Monthly.Income                    float64\n",
       "Open.CREDIT.Lines                 float64\n",
       "Revolving.CREDIT.Balance          float64\n",
       "Inquiries.in.the.Last.6.Months    float64\n",
       "Employment.Length                 float64\n",
       "LL_36                               uint8\n",
       "LP_cem                              uint8\n",
       "LP_chos                             uint8\n",
       "LP_dm                               uint8\n",
       "LP_hmvw                             uint8\n",
       "State_east_coast                    uint8\n",
       "State_midwest                       uint8\n",
       "State_mountain_states               uint8\n",
       "State_southern_states               uint8\n",
       "State_west_coast                    uint8\n",
       "ho_mort                             int32\n",
       "ho_rent                             int32\n",
       "fico                              float64\n",
       "dtype: object"
      ]
     },
     "execution_count": 39,
     "metadata": {},
     "output_type": "execute_result"
    }
   ],
   "source": [
    "ld.dtypes"
   ]
  },
  {
   "cell_type": "markdown",
   "metadata": {},
   "source": [
    "##### Now we have all the variables as numbers. After dropping observations with missing values , we can proceed to build our model."
   ]
  },
  {
   "cell_type": "code",
   "execution_count": 40,
   "metadata": {},
   "outputs": [
    {
     "data": {
      "text/plain": [
       "(2500, 23)"
      ]
     },
     "execution_count": 40,
     "metadata": {},
     "output_type": "execute_result"
    }
   ],
   "source": [
    "ld.shape"
   ]
  },
  {
   "cell_type": "code",
   "execution_count": 41,
   "metadata": {},
   "outputs": [],
   "source": [
    "ld.dropna(axis=0,inplace=True)"
   ]
  },
  {
   "cell_type": "code",
   "execution_count": 42,
   "metadata": {},
   "outputs": [
    {
     "data": {
      "text/plain": [
       "(1747, 23)"
      ]
     },
     "execution_count": 42,
     "metadata": {},
     "output_type": "execute_result"
    }
   ],
   "source": [
    "ld.shape"
   ]
  },
  {
   "cell_type": "markdown",
   "metadata": {},
   "source": [
    "##### Now split our data into two random parts . One to build model on , Another to test its performance. Option \"random_state\" is used to make our random operation reproducible."
   ]
  },
  {
   "cell_type": "code",
   "execution_count": 43,
   "metadata": {},
   "outputs": [],
   "source": [
    "ld_train, ld_test = train_test_split(ld, test_size = 0.2,random_state=2)"
   ]
  },
  {
   "cell_type": "code",
   "execution_count": 44,
   "metadata": {},
   "outputs": [],
   "source": [
    "lm=LinearRegression()"
   ]
  },
  {
   "cell_type": "markdown",
   "metadata": {},
   "source": [
    "##### Above line creates and object of class LinearRegression named lm. We can use this object to access all functions realted to LinearRegression. Now we'll separate predictors and response for both the datasets . We'll also drop ID from predictor's list because it doesnt make sense to include an ID variable in the model. Variable \"Amount.Funded.By.Investors\" will also be dropped because it wont be available until the loan has been processed. We can use only those variables which are present at the point of the business process where we want to apply our model."
   ]
  },
  {
   "cell_type": "code",
   "execution_count": 45,
   "metadata": {},
   "outputs": [],
   "source": [
    "x_train=ld_train.drop([\"Interest.Rate\",\"ID\",\"Amount.Funded.By.Investors\"],1)\n",
    "y_train=ld_train[\"Interest.Rate\"]\n",
    "x_test=ld_test.drop([\"Interest.Rate\",\"ID\",\"Amount.Funded.By.Investors\"],1)\n",
    "y_test=ld_test[\"Interest.Rate\"]"
   ]
  },
  {
   "cell_type": "markdown",
   "metadata": {},
   "source": [
    "##### Now we can fit our model using lm the LinearRegression object that we created earlier"
   ]
  },
  {
   "cell_type": "code",
   "execution_count": 46,
   "metadata": {},
   "outputs": [
    {
     "data": {
      "text/plain": [
       "LinearRegression(copy_X=True, fit_intercept=True, n_jobs=None, normalize=False)"
      ]
     },
     "execution_count": 46,
     "metadata": {},
     "output_type": "execute_result"
    }
   ],
   "source": [
    "lm.fit(x_train,y_train)"
   ]
  },
  {
   "cell_type": "markdown",
   "metadata": {},
   "source": [
    "##### Next we predict response on our test data , calculate errors on those prediction and then rmse for those residuals. That is the measure of performance on the test data. We can use this measure to compare other models that we'll build."
   ]
  },
  {
   "cell_type": "code",
   "execution_count": 47,
   "metadata": {},
   "outputs": [
    {
     "data": {
      "text/plain": [
       "1.8536265185757237"
      ]
     },
     "execution_count": 47,
     "metadata": {},
     "output_type": "execute_result"
    }
   ],
   "source": [
    "p_test=lm.predict(x_test)\n",
    "\n",
    "residual=p_test-y_test\n",
    "\n",
    "rmse_lm=np.sqrt(np.dot(residual,residual)/len(p_test))\n",
    "\n",
    "rmse_lm"
   ]
  },
  {
   "cell_type": "markdown",
   "metadata": {},
   "source": [
    "##### This can use to compare our linear regression model with other techniques and eventualy pick the one with least error . Next how to extract coefficient produced by our model"
   ]
  },
  {
   "cell_type": "code",
   "execution_count": 48,
   "metadata": {},
   "outputs": [
    {
     "data": {
      "text/plain": [
       "[('Amount.Requested', 0.00015032369931310618),\n",
       " ('Debt.To.Income.Ratio', -0.002098703934148095),\n",
       " ('Monthly.Income', -5.5617524114512254e-05),\n",
       " ('Open.CREDIT.Lines', -0.037891356712095946),\n",
       " ('Revolving.CREDIT.Balance', 1.8391074504669341e-06),\n",
       " ('Inquiries.in.the.Last.6.Months', 0.38297029279839306),\n",
       " ('Employment.Length', 0.0020878089400503635),\n",
       " ('LL_36', -3.21034091194519),\n",
       " ('LP_cem', -0.9066661720320195),\n",
       " ('LP_chos', -0.9554504555930179),\n",
       " ('LP_dm', -1.1522062846270253),\n",
       " ('LP_hmvw', -1.0876591992874889),\n",
       " ('State_east_coast', -0.10306067514599108),\n",
       " ('State_midwest', -0.26506449389059566),\n",
       " ('State_mountain_states', 0.01545231551504044),\n",
       " ('State_southern_states', 0.30114127418561454),\n",
       " ('State_west_coast', 0.051531579335938625),\n",
       " ('ho_mort', -0.30350427305059435),\n",
       " ('ho_rent', -0.034935797769699364),\n",
       " ('fico', -0.08487467008067114)]"
      ]
     },
     "execution_count": 48,
     "metadata": {},
     "output_type": "execute_result"
    }
   ],
   "source": [
    "coefs=lm.coef_\n",
    "\n",
    "features=x_train.columns\n",
    "\n",
    "list(zip(features,coefs))"
   ]
  },
  {
   "cell_type": "markdown",
   "metadata": {},
   "source": [
    "##### Data Visualization"
   ]
  },
  {
   "cell_type": "markdown",
   "metadata": {},
   "source": [
    "##### A horizontal bar plot where the features are shown on the y-axis, and the coefficients are displayed on the x-axis. The length of the bars indicates the magnitude of the coefficients, providing a visual representation of the importance or impact of each feature in the linear regression model."
   ]
  },
  {
   "cell_type": "code",
   "execution_count": 52,
   "metadata": {},
   "outputs": [
    {
     "data": {
      "image/png": "[encoded data removed]",
      "text/plain": [
       "<Figure size 720x432 with 1 Axes>"
      ]
     },
     "metadata": {
      "needs_background": "light"
     },
     "output_type": "display_data"
    }
   ],
   "source": [
    "import matplotlib.pyplot as plt\n",
    "\n",
    "# Extracting feature names and coefficients\n",
    "features, coefs = zip(*list(zip(features, coefs)))\n",
    "\n",
    "# Create a DataFrame to store the features and coefficients\n",
    "df = pd.DataFrame({'Features': features, 'Coefficients': coefs})\n",
    "\n",
    "# Sort the DataFrame by absolute coefficient values for better visualization\n",
    "df['Abs_Coefficients'] = abs(df['Coefficients'])\n",
    "df = df.sort_values('Abs_Coefficients', ascending=False)\n",
    "\n",
    "# Plot the coefficients using Seaborn\n",
    "plt.figure(figsize=(10, 6))\n",
    "sns.barplot(x='Coefficients', y='Features', data=df, orient='h',palette='Paired')\n",
    "plt.xlabel('Coefficients')\n",
    "plt.ylabel('Features')\n",
    "plt.title('Linear Regression Coefficients and Feature Importance ')\n",
    "plt.show()"
   ]
  },
  {
   "cell_type": "markdown",
   "metadata": {},
   "source": [
    "##### Residual Plot: A scatter plot of the residuals to visualize the distribution of the model's errors. This plot helps to check for any patterns or heteroscedasticity in the residuals. x-axis representing the predicted interest rates and the y-axis representing the residuals. Points above the horizontal line at y=0 indicate overpredictions, while points below the line indicate underpredictions."
   ]
  },
  {
   "cell_type": "code",
   "execution_count": 53,
   "metadata": {},
   "outputs": [
    {
     "data": {
      "image/png": "[encoded data removed]",
      "text/plain": [
       "<Figure size 720x432 with 1 Axes>"
      ]
     },
     "metadata": {
      "needs_background": "light"
     },
     "output_type": "display_data"
    }
   ],
   "source": [
    "# Creating a residual plot\n",
    "plt.figure(figsize=(10, 6))\n",
    "plt.scatter(p_test, residual, alpha=0.5, marker=\"h\", edgecolor=\"green\", s=250, c=\"green\")\n",
    "plt.axhline(y=0, color='red', linestyle='--')\n",
    "plt.xlabel('Predicted Interest Rate')\n",
    "plt.ylabel('Residuals')\n",
    "plt.title('Residual Plot')\n",
    "plt.show()\n"
   ]
  },
  {
   "cell_type": "markdown",
   "metadata": {},
   "source": [
    "##### Actual vs. Predicted Plot: To visually compare the actual interest rates and the predicted interest rates, a scatter plot with the actual interest rates on the x-axis and the predicted interest rates on the y-axis. This plot helps to assess the model's accuracy.  The scatter plot will also include a diagonal line (dashed red line) that represents perfect predictions, i.e., where the predicted interest rate is exactly equal to the actual interest rate. Points closer to this line indicate more accurate predictions."
   ]
  },
  {
   "cell_type": "code",
   "execution_count": 54,
   "metadata": {},
   "outputs": [
    {
     "data": {
      "image/png": "[encoded data removed]",
      "text/plain": [
       "<Figure size 720x432 with 1 Axes>"
      ]
     },
     "metadata": {
      "needs_background": "light"
     },
     "output_type": "display_data"
    }
   ],
   "source": [
    "# Creating a scatter plot of actual vs. predicted interest rates\n",
    "plt.figure(figsize=(10, 6))\n",
    "plt.scatter(y_test, p_test, alpha=0.5, marker=\"s\", edgecolor=\"orchid\", s=200, c=\"yellow\")\n",
    "plt.plot([y_test.min(), y_test.max()], [y_test.min(), y_test.max()], color='red', linestyle='--')\n",
    "plt.xlabel('Actual Interest Rate')\n",
    "plt.ylabel('Predicted Interest Rate')\n",
    "plt.title('Actual vs. Predicted Interest Rates')\n",
    "plt.show()\n"
   ]
  },
  {
   "cell_type": "code",
   "execution_count": null,
   "metadata": {},
   "outputs": [],
   "source": []
  }
 ],
 "metadata": {
  "kernelspec": {
   "display_name": "Python 3",
   "language": "python",
   "name": "python3"
  },
  "language_info": {
   "codemirror_mode": {
    "name": "ipython",
    "version": 3
   },
   "file_extension": ".py",
   "mimetype": "text/x-python",
   "name": "python",
   "nbconvert_exporter": "python",
   "pygments_lexer": "ipython3",
   "version": "3.7.4"
  }
 },
 "nbformat": 4,
 "nbformat_minor": 2
}
